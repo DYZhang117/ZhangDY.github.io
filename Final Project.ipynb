{
 "cells": [
  {
   "cell_type": "markdown",
   "id": "93b77805",
   "metadata": {},
   "source": [
    "# viz analysis of Average Annual Daily Traffic 2010 in IL"
   ]
  },
  {
   "cell_type": "markdown",
   "id": "578c840d",
   "metadata": {},
   "source": [
    "## Import dataset"
   ]
  },
  {
   "cell_type": "markdown",
   "id": "d5057772",
   "metadata": {},
   "source": [
    "This dataset is from https://data.illinois.gov/dataset/f56a972b-359c-493d-9df7-4f70b71b548a/resource/722b02ef-34fa-4eab-844c-77fc4d9f188c/download/idot_average_annual_daily_traffic_2010.csv."
   ]
  },
  {
   "cell_type": "code",
   "execution_count": 1,
   "id": "22dbbfc9",
   "metadata": {
    "scrolled": true
   },
   "outputs": [
    {
     "data": {
      "text/html": [
       "<div>\n",
       "<style scoped>\n",
       "    .dataframe tbody tr th:only-of-type {\n",
       "        vertical-align: middle;\n",
       "    }\n",
       "\n",
       "    .dataframe tbody tr th {\n",
       "        vertical-align: top;\n",
       "    }\n",
       "\n",
       "    .dataframe thead th {\n",
       "        text-align: right;\n",
       "    }\n",
       "</style>\n",
       "<table border=\"1\" class=\"dataframe\">\n",
       "  <thead>\n",
       "    <tr style=\"text-align: right;\">\n",
       "      <th></th>\n",
       "      <th>AADT</th>\n",
       "      <th>AADT_YR</th>\n",
       "      <th>MARKED_NAM</th>\n",
       "      <th>ROAD_NAME</th>\n",
       "      <th>COUNTY_NAM</th>\n",
       "      <th>HCV</th>\n",
       "      <th>HCV_MU_YR</th>\n",
       "      <th>MU_VOL</th>\n",
       "      <th>SU_VOL</th>\n",
       "      <th>MR_NUMBER</th>\n",
       "      <th>MR_TYPE</th>\n",
       "      <th>INVENTORY</th>\n",
       "      <th>KEY_RT_NBR</th>\n",
       "      <th>POINT_X</th>\n",
       "      <th>POINT_Y</th>\n",
       "    </tr>\n",
       "  </thead>\n",
       "  <tbody>\n",
       "    <tr>\n",
       "      <th>0</th>\n",
       "      <td>10.0</td>\n",
       "      <td>2000.0</td>\n",
       "      <td>0</td>\n",
       "      <td>MAIN PUMP STATION RD</td>\n",
       "      <td>ADAMS</td>\n",
       "      <td>NaN</td>\n",
       "      <td>NaN</td>\n",
       "      <td>NaN</td>\n",
       "      <td>NaN</td>\n",
       "      <td>0</td>\n",
       "      <td>0.0</td>\n",
       "      <td>001  01000 004780</td>\n",
       "      <td>1000</td>\n",
       "      <td>-91.4149</td>\n",
       "      <td>39.90845</td>\n",
       "    </tr>\n",
       "    <tr>\n",
       "      <th>1</th>\n",
       "      <td>375.0</td>\n",
       "      <td>2008.0</td>\n",
       "      <td>0</td>\n",
       "      <td>WEISS LN</td>\n",
       "      <td>ADAMS</td>\n",
       "      <td>NaN</td>\n",
       "      <td>NaN</td>\n",
       "      <td>NaN</td>\n",
       "      <td>NaN</td>\n",
       "      <td>0</td>\n",
       "      <td>0.0</td>\n",
       "      <td>001  01840 004780</td>\n",
       "      <td>1840</td>\n",
       "      <td>-91.3848</td>\n",
       "      <td>39.97238</td>\n",
       "    </tr>\n",
       "    <tr>\n",
       "      <th>2</th>\n",
       "      <td>450.0</td>\n",
       "      <td>2008.0</td>\n",
       "      <td>0</td>\n",
       "      <td>WEISS LN</td>\n",
       "      <td>ADAMS</td>\n",
       "      <td>NaN</td>\n",
       "      <td>NaN</td>\n",
       "      <td>NaN</td>\n",
       "      <td>NaN</td>\n",
       "      <td>0</td>\n",
       "      <td>0.0</td>\n",
       "      <td>001  01840 004780</td>\n",
       "      <td>1840</td>\n",
       "      <td>-91.3812</td>\n",
       "      <td>39.97237</td>\n",
       "    </tr>\n",
       "    <tr>\n",
       "      <th>3</th>\n",
       "      <td>NaN</td>\n",
       "      <td>NaN</td>\n",
       "      <td>0</td>\n",
       "      <td>MORTON DR</td>\n",
       "      <td>ADAMS</td>\n",
       "      <td>NaN</td>\n",
       "      <td>NaN</td>\n",
       "      <td>NaN</td>\n",
       "      <td>NaN</td>\n",
       "      <td>0</td>\n",
       "      <td>0.0</td>\n",
       "      <td>001  01844 004780</td>\n",
       "      <td>1844</td>\n",
       "      <td>-91.4101</td>\n",
       "      <td>39.96958</td>\n",
       "    </tr>\n",
       "    <tr>\n",
       "      <th>4</th>\n",
       "      <td>NaN</td>\n",
       "      <td>NaN</td>\n",
       "      <td>0</td>\n",
       "      <td>MAR LA DR</td>\n",
       "      <td>ADAMS</td>\n",
       "      <td>NaN</td>\n",
       "      <td>NaN</td>\n",
       "      <td>NaN</td>\n",
       "      <td>NaN</td>\n",
       "      <td>0</td>\n",
       "      <td>0.0</td>\n",
       "      <td>001  01847 004780</td>\n",
       "      <td>1847</td>\n",
       "      <td>-91.3836</td>\n",
       "      <td>39.97117</td>\n",
       "    </tr>\n",
       "    <tr>\n",
       "      <th>...</th>\n",
       "      <td>...</td>\n",
       "      <td>...</td>\n",
       "      <td>...</td>\n",
       "      <td>...</td>\n",
       "      <td>...</td>\n",
       "      <td>...</td>\n",
       "      <td>...</td>\n",
       "      <td>...</td>\n",
       "      <td>...</td>\n",
       "      <td>...</td>\n",
       "      <td>...</td>\n",
       "      <td>...</td>\n",
       "      <td>...</td>\n",
       "      <td>...</td>\n",
       "      <td>...</td>\n",
       "    </tr>\n",
       "    <tr>\n",
       "      <th>219235</th>\n",
       "      <td>NaN</td>\n",
       "      <td>NaN</td>\n",
       "      <td>0</td>\n",
       "      <td></td>\n",
       "      <td>WOODFORD</td>\n",
       "      <td>NaN</td>\n",
       "      <td>NaN</td>\n",
       "      <td>NaN</td>\n",
       "      <td>NaN</td>\n",
       "      <td>0</td>\n",
       "      <td>0.0</td>\n",
       "      <td>102  79203 000000</td>\n",
       "      <td>9203</td>\n",
       "      <td>-89.2060</td>\n",
       "      <td>40.79980</td>\n",
       "    </tr>\n",
       "    <tr>\n",
       "      <th>219236</th>\n",
       "      <td>75.0</td>\n",
       "      <td>2010.0</td>\n",
       "      <td>0</td>\n",
       "      <td></td>\n",
       "      <td>WOODFORD</td>\n",
       "      <td>NaN</td>\n",
       "      <td>NaN</td>\n",
       "      <td>NaN</td>\n",
       "      <td>NaN</td>\n",
       "      <td>0</td>\n",
       "      <td>0.0</td>\n",
       "      <td>102  80001 000000</td>\n",
       "      <td>1</td>\n",
       "      <td>-89.4481</td>\n",
       "      <td>40.87900</td>\n",
       "    </tr>\n",
       "    <tr>\n",
       "      <th>219237</th>\n",
       "      <td>5000.0</td>\n",
       "      <td>2009.0</td>\n",
       "      <td>0</td>\n",
       "      <td></td>\n",
       "      <td>WOODFORD</td>\n",
       "      <td>NaN</td>\n",
       "      <td>NaN</td>\n",
       "      <td>NaN</td>\n",
       "      <td>NaN</td>\n",
       "      <td>0</td>\n",
       "      <td>0.0</td>\n",
       "      <td>102  80002 000000</td>\n",
       "      <td>2</td>\n",
       "      <td>-89.2748</td>\n",
       "      <td>40.62167</td>\n",
       "    </tr>\n",
       "    <tr>\n",
       "      <th>219238</th>\n",
       "      <td>1850.0</td>\n",
       "      <td>2010.0</td>\n",
       "      <td>0</td>\n",
       "      <td></td>\n",
       "      <td>WOODFORD</td>\n",
       "      <td>NaN</td>\n",
       "      <td>NaN</td>\n",
       "      <td>NaN</td>\n",
       "      <td>NaN</td>\n",
       "      <td>0</td>\n",
       "      <td>0.0</td>\n",
       "      <td>102  80002 000000</td>\n",
       "      <td>2</td>\n",
       "      <td>-89.2748</td>\n",
       "      <td>40.62031</td>\n",
       "    </tr>\n",
       "    <tr>\n",
       "      <th>219239</th>\n",
       "      <td>NaN</td>\n",
       "      <td>NaN</td>\n",
       "      <td>0</td>\n",
       "      <td></td>\n",
       "      <td>WOODFORD</td>\n",
       "      <td>NaN</td>\n",
       "      <td>NaN</td>\n",
       "      <td>NaN</td>\n",
       "      <td>NaN</td>\n",
       "      <td>0</td>\n",
       "      <td>0.0</td>\n",
       "      <td>102  80229 000000</td>\n",
       "      <td>229</td>\n",
       "      <td>-89.0069</td>\n",
       "      <td>40.66840</td>\n",
       "    </tr>\n",
       "  </tbody>\n",
       "</table>\n",
       "<p>219240 rows × 15 columns</p>\n",
       "</div>"
      ],
      "text/plain": [
       "          AADT  AADT_YR MARKED_NAM             ROAD_NAME COUNTY_NAM  HCV  \\\n",
       "0         10.0   2000.0          0  MAIN PUMP STATION RD      ADAMS  NaN   \n",
       "1        375.0   2008.0          0              WEISS LN      ADAMS  NaN   \n",
       "2        450.0   2008.0          0              WEISS LN      ADAMS  NaN   \n",
       "3          NaN      NaN          0             MORTON DR      ADAMS  NaN   \n",
       "4          NaN      NaN          0             MAR LA DR      ADAMS  NaN   \n",
       "...        ...      ...        ...                   ...        ...  ...   \n",
       "219235     NaN      NaN          0                         WOODFORD  NaN   \n",
       "219236    75.0   2010.0          0                         WOODFORD  NaN   \n",
       "219237  5000.0   2009.0          0                         WOODFORD  NaN   \n",
       "219238  1850.0   2010.0          0                         WOODFORD  NaN   \n",
       "219239     NaN      NaN          0                         WOODFORD  NaN   \n",
       "\n",
       "        HCV_MU_YR  MU_VOL  SU_VOL  MR_NUMBER  MR_TYPE          INVENTORY  \\\n",
       "0             NaN     NaN     NaN          0      0.0  001  01000 004780   \n",
       "1             NaN     NaN     NaN          0      0.0  001  01840 004780   \n",
       "2             NaN     NaN     NaN          0      0.0  001  01840 004780   \n",
       "3             NaN     NaN     NaN          0      0.0  001  01844 004780   \n",
       "4             NaN     NaN     NaN          0      0.0  001  01847 004780   \n",
       "...           ...     ...     ...        ...      ...                ...   \n",
       "219235        NaN     NaN     NaN          0      0.0  102  79203 000000   \n",
       "219236        NaN     NaN     NaN          0      0.0  102  80001 000000   \n",
       "219237        NaN     NaN     NaN          0      0.0  102  80002 000000   \n",
       "219238        NaN     NaN     NaN          0      0.0  102  80002 000000   \n",
       "219239        NaN     NaN     NaN          0      0.0  102  80229 000000   \n",
       "\n",
       "        KEY_RT_NBR  POINT_X   POINT_Y  \n",
       "0             1000 -91.4149  39.90845  \n",
       "1             1840 -91.3848  39.97238  \n",
       "2             1840 -91.3812  39.97237  \n",
       "3             1844 -91.4101  39.96958  \n",
       "4             1847 -91.3836  39.97117  \n",
       "...            ...      ...       ...  \n",
       "219235        9203 -89.2060  40.79980  \n",
       "219236           1 -89.4481  40.87900  \n",
       "219237           2 -89.2748  40.62167  \n",
       "219238           2 -89.2748  40.62031  \n",
       "219239         229 -89.0069  40.66840  \n",
       "\n",
       "[219240 rows x 15 columns]"
      ]
     },
     "execution_count": 1,
     "metadata": {},
     "output_type": "execute_result"
    }
   ],
   "source": [
    "import pandas as pd\n",
    "import numpy as np\n",
    "import matplotlib.pyplot as plt\n",
    "from shapely.geometry import Point\n",
    "import geopandas as gpd\n",
    "from geopandas import GeoDataFrame\n",
    "import folium\n",
    "\n",
    "traf_data = pd.read_csv(\"https://data.illinois.gov/dataset/f56a972b-359c-493d-9df7-4f70b71b548a/resource/722b02ef-34fa-4eab-844c-77fc4d9f188c/download/idot_average_annual_daily_traffic_2010.csv\",\n",
    "                       na_values={\"AADT\":[\"Not Counted\"],\"SU_VOL\":[\"Not Counted\"], \"MU_VOL\":[\"Not Counted\"],\"HCV\":[\"Not Counted\"],\n",
    "                                 \"AADT_YR\":[\" \"],\"HCV_MU_YR\":[\" \"]})\n",
    "# or we could also delete the rows with \"Not Counted\" and \" \"\n",
    "# traf_data = traf_data.fillna({\"AADT\":\"Not Counted\"})\n",
    "traf_data"
   ]
  },
  {
   "cell_type": "markdown",
   "id": "c58d6a8c",
   "metadata": {},
   "source": [
    "## Intro of Dataset"
   ]
  },
  {
   "cell_type": "markdown",
   "id": "b6b3edf2",
   "metadata": {},
   "source": [
    "### Additional Information"
   ]
  },
  {
   "cell_type": "markdown",
   "id": "fa41b347",
   "metadata": {},
   "source": [
    "* The \"IDOT Average Annual Daily Traffic 2010\" dataset is from data.illinois.gov(https://data.illinois.gov/dataset/357idot_average_annual_daily_traffic_2010).\n",
    "\n",
    "* We could directly access it by entering \"https://data.illinois.gov/dataset/f56a972b-359c-493d-9df7-4f70b71b548a/resource/722b02ef-34fa-4eab-844c-77fc4d9f188c/download/idot_average_annual_daily_traffic_2010.csv\".\n",
    "\n",
    "* The \"IDOT Average Annual Daily Traffic 2010\" dataset did **not provide any LICENSE**. Since it is a public dataset from the government, I think that basic analysis and data visualization can be performed on this data set.\n",
    "\n",
    "* The file is about 25,000kb, which contains 219,240 rows and 15 columns."
   ]
  },
  {
   "cell_type": "markdown",
   "id": "0004a426",
   "metadata": {},
   "source": [
    "### Intro about backgroud & datatype"
   ]
  },
  {
   "cell_type": "markdown",
   "id": "f88f4375",
   "metadata": {},
   "source": [
    "* \"This coverage contains a highway Annual Average Daily Traffic (AADT) subset of the information included in the IDOT Illinois Highway Information System (IHIS) -- Illinois Roadway Information System (IRIS).\"\n",
    "* It includes 15 attributes, among which \"AADT_YR\", \"POINT_X\", \"POINT_Y\", \"KEY_RT_NBR\", \"MR_TYPE\", \"MR_NUMBER\", \"HCV_MU_YR\" are numeric variables; \"AADT\", \"SU_VOL\", \"MU_VOL\" ,\"HCV\" contains \"Not Counted\", you can treat \"Not Counted\" as a null value, so \"AADT\", \"SU_VOL\", \"MU_VOL\", \"HCV\" become numeric variables; \"MARKED_NAM\", \"ROAD_NAME\", \"COUNTY_NAM\", \"INVENTORY\" are categorical variables;\n",
    "* Each rows represents the annual average daily traffic with specific Annual Average Daily Traffic Year, MARKED_NAM & ROAD_NAME."
   ]
  },
  {
   "cell_type": "markdown",
   "id": "00517af7",
   "metadata": {},
   "source": [
    "### Explanation of variables"
   ]
  },
  {
   "cell_type": "markdown",
   "id": "df6c7686",
   "metadata": {},
   "source": [
    "**Because there is no official attribute description file, I searched google for the usual meaning of these tags.**\n",
    "(from https://apps.dot.illinois.gov/gist2/gisdata/hwy_metadat.txt)\n",
    "\n",
    "\n",
    "AADT (Annual Average Daily Traffic): Average daily traffic on a roadway link for all days of the week during a period of one year, expressed in vpd (vehicles per day).\n",
    "\n",
    "AADT_YR: Annual Average Daily Traffic Year \n",
    "\n",
    "MARKED_NAM: The name of maked point.\n",
    "\n",
    "ROAD_NAME: Street/Road Name \n",
    "\n",
    "COUNTY_NAM: Translated from INV_CO\n",
    "\n",
    "HCV: Annual Average Daily Heavy Commercial Volume \n",
    "\n",
    "HCV_MU_YR: Annual Average Daily HCV/Multi Unit Volume Year\n",
    "\n",
    "MU_VOL: Annual Average Daily Multiple Unit Volume\n",
    "\n",
    "SU_VOL: Annual Average Daily Single Unit Volume\n",
    "\n",
    "MR_NUMBER: (cannot found)\n",
    "\n",
    "MR_TYPE: (cannot found)\n",
    "\n",
    "INVENTORY: INVENTORY KEY ROUTE NUMBER\n",
    "\n",
    "KEY_RT_NBR: Key Route Number\n",
    "\n",
    "POINT_X: Longitude of record point\n",
    "\n",
    "POINT_Y: Latitude of record point\n"
   ]
  },
  {
   "cell_type": "code",
   "execution_count": 2,
   "id": "49f959ab",
   "metadata": {},
   "outputs": [
    {
     "data": {
      "text/plain": [
       "AADT          114865\n",
       "AADT_YR       114865\n",
       "MARKED_NAM         0\n",
       "ROAD_NAME          3\n",
       "COUNTY_NAM         0\n",
       "HCV           207971\n",
       "HCV_MU_YR     207971\n",
       "MU_VOL        207971\n",
       "SU_VOL        207971\n",
       "MR_NUMBER          0\n",
       "MR_TYPE        11482\n",
       "INVENTORY          0\n",
       "KEY_RT_NBR         0\n",
       "POINT_X            0\n",
       "POINT_Y            0\n",
       "dtype: int64"
      ]
     },
     "execution_count": 2,
     "metadata": {},
     "output_type": "execute_result"
    }
   ],
   "source": [
    "traf_data.isnull().sum()"
   ]
  },
  {
   "cell_type": "code",
   "execution_count": 3,
   "id": "cfb47ae5",
   "metadata": {},
   "outputs": [
    {
     "name": "stdout",
     "output_type": "stream",
     "text": [
      "<class 'pandas.core.frame.DataFrame'>\n",
      "RangeIndex: 219240 entries, 0 to 219239\n",
      "Data columns (total 15 columns):\n",
      " #   Column      Non-Null Count   Dtype  \n",
      "---  ------      --------------   -----  \n",
      " 0   AADT        104375 non-null  float64\n",
      " 1   AADT_YR     104375 non-null  float64\n",
      " 2   MARKED_NAM  219240 non-null  object \n",
      " 3   ROAD_NAME   219237 non-null  object \n",
      " 4   COUNTY_NAM  219240 non-null  object \n",
      " 5   HCV         11269 non-null   float64\n",
      " 6   HCV_MU_YR   11269 non-null   float64\n",
      " 7   MU_VOL      11269 non-null   float64\n",
      " 8   SU_VOL      11269 non-null   float64\n",
      " 9   MR_NUMBER   219240 non-null  int64  \n",
      " 10  MR_TYPE     207758 non-null  float64\n",
      " 11  INVENTORY   219240 non-null  object \n",
      " 12  KEY_RT_NBR  219240 non-null  int64  \n",
      " 13  POINT_X     219240 non-null  float64\n",
      " 14  POINT_Y     219240 non-null  float64\n",
      "dtypes: float64(9), int64(2), object(4)\n",
      "memory usage: 25.1+ MB\n"
     ]
    }
   ],
   "source": [
    "traf_data.info()"
   ]
  },
  {
   "cell_type": "code",
   "execution_count": 4,
   "id": "05dba706",
   "metadata": {
    "scrolled": true
   },
   "outputs": [
    {
     "data": {
      "text/html": [
       "<div>\n",
       "<style scoped>\n",
       "    .dataframe tbody tr th:only-of-type {\n",
       "        vertical-align: middle;\n",
       "    }\n",
       "\n",
       "    .dataframe tbody tr th {\n",
       "        vertical-align: top;\n",
       "    }\n",
       "\n",
       "    .dataframe thead th {\n",
       "        text-align: right;\n",
       "    }\n",
       "</style>\n",
       "<table border=\"1\" class=\"dataframe\">\n",
       "  <thead>\n",
       "    <tr style=\"text-align: right;\">\n",
       "      <th></th>\n",
       "      <th>AADT</th>\n",
       "      <th>AADT_YR</th>\n",
       "      <th>HCV</th>\n",
       "      <th>HCV_MU_YR</th>\n",
       "      <th>MU_VOL</th>\n",
       "      <th>SU_VOL</th>\n",
       "      <th>MR_NUMBER</th>\n",
       "      <th>MR_TYPE</th>\n",
       "      <th>KEY_RT_NBR</th>\n",
       "      <th>POINT_X</th>\n",
       "      <th>POINT_Y</th>\n",
       "    </tr>\n",
       "  </thead>\n",
       "  <tbody>\n",
       "    <tr>\n",
       "      <th>count</th>\n",
       "      <td>104375.000000</td>\n",
       "      <td>104375.000000</td>\n",
       "      <td>11269.000000</td>\n",
       "      <td>11269.000000</td>\n",
       "      <td>11269.000000</td>\n",
       "      <td>11269.000000</td>\n",
       "      <td>219240.000000</td>\n",
       "      <td>207758.0</td>\n",
       "      <td>219240.000000</td>\n",
       "      <td>219240.000000</td>\n",
       "      <td>219240.000000</td>\n",
       "    </tr>\n",
       "    <tr>\n",
       "      <th>mean</th>\n",
       "      <td>3811.882204</td>\n",
       "      <td>2007.381068</td>\n",
       "      <td>1471.424794</td>\n",
       "      <td>2008.961310</td>\n",
       "      <td>906.133286</td>\n",
       "      <td>565.291508</td>\n",
       "      <td>3.962949</td>\n",
       "      <td>0.0</td>\n",
       "      <td>2316.175283</td>\n",
       "      <td>-89.012599</td>\n",
       "      <td>40.303486</td>\n",
       "    </tr>\n",
       "    <tr>\n",
       "      <th>std</th>\n",
       "      <td>16263.809071</td>\n",
       "      <td>2.315434</td>\n",
       "      <td>3105.078248</td>\n",
       "      <td>0.365237</td>\n",
       "      <td>2323.655821</td>\n",
       "      <td>930.235790</td>\n",
       "      <td>22.313463</td>\n",
       "      <td>0.0</td>\n",
       "      <td>2734.738937</td>\n",
       "      <td>0.929282</td>\n",
       "      <td>1.446963</td>\n",
       "    </tr>\n",
       "    <tr>\n",
       "      <th>min</th>\n",
       "      <td>10.000000</td>\n",
       "      <td>2000.000000</td>\n",
       "      <td>10.000000</td>\n",
       "      <td>2006.000000</td>\n",
       "      <td>0.000000</td>\n",
       "      <td>0.000000</td>\n",
       "      <td>0.000000</td>\n",
       "      <td>0.0</td>\n",
       "      <td>1.000000</td>\n",
       "      <td>-91.505900</td>\n",
       "      <td>36.983650</td>\n",
       "    </tr>\n",
       "    <tr>\n",
       "      <th>25%</th>\n",
       "      <td>100.000000</td>\n",
       "      <td>2006.000000</td>\n",
       "      <td>265.000000</td>\n",
       "      <td>2009.000000</td>\n",
       "      <td>100.000000</td>\n",
       "      <td>125.000000</td>\n",
       "      <td>0.000000</td>\n",
       "      <td>0.0</td>\n",
       "      <td>223.000000</td>\n",
       "      <td>-89.697700</td>\n",
       "      <td>39.004047</td>\n",
       "    </tr>\n",
       "    <tr>\n",
       "      <th>50%</th>\n",
       "      <td>450.000000</td>\n",
       "      <td>2008.000000</td>\n",
       "      <td>500.000000</td>\n",
       "      <td>2009.000000</td>\n",
       "      <td>200.000000</td>\n",
       "      <td>250.000000</td>\n",
       "      <td>0.000000</td>\n",
       "      <td>0.0</td>\n",
       "      <td>1025.000000</td>\n",
       "      <td>-88.962000</td>\n",
       "      <td>40.357945</td>\n",
       "    </tr>\n",
       "    <tr>\n",
       "      <th>75%</th>\n",
       "      <td>2250.000000</td>\n",
       "      <td>2009.000000</td>\n",
       "      <td>975.000000</td>\n",
       "      <td>2009.000000</td>\n",
       "      <td>450.000000</td>\n",
       "      <td>550.000000</td>\n",
       "      <td>0.000000</td>\n",
       "      <td>0.0</td>\n",
       "      <td>3669.250000</td>\n",
       "      <td>-88.187200</td>\n",
       "      <td>41.671675</td>\n",
       "    </tr>\n",
       "    <tr>\n",
       "      <th>max</th>\n",
       "      <td>353400.000000</td>\n",
       "      <td>2010.000000</td>\n",
       "      <td>41800.000000</td>\n",
       "      <td>2010.000000</td>\n",
       "      <td>36000.000000</td>\n",
       "      <td>15500.000000</td>\n",
       "      <td>474.000000</td>\n",
       "      <td>0.0</td>\n",
       "      <td>9999.000000</td>\n",
       "      <td>-87.504000</td>\n",
       "      <td>42.507770</td>\n",
       "    </tr>\n",
       "  </tbody>\n",
       "</table>\n",
       "</div>"
      ],
      "text/plain": [
       "                AADT        AADT_YR           HCV     HCV_MU_YR        MU_VOL  \\\n",
       "count  104375.000000  104375.000000  11269.000000  11269.000000  11269.000000   \n",
       "mean     3811.882204    2007.381068   1471.424794   2008.961310    906.133286   \n",
       "std     16263.809071       2.315434   3105.078248      0.365237   2323.655821   \n",
       "min        10.000000    2000.000000     10.000000   2006.000000      0.000000   \n",
       "25%       100.000000    2006.000000    265.000000   2009.000000    100.000000   \n",
       "50%       450.000000    2008.000000    500.000000   2009.000000    200.000000   \n",
       "75%      2250.000000    2009.000000    975.000000   2009.000000    450.000000   \n",
       "max    353400.000000    2010.000000  41800.000000   2010.000000  36000.000000   \n",
       "\n",
       "             SU_VOL      MR_NUMBER   MR_TYPE     KEY_RT_NBR        POINT_X  \\\n",
       "count  11269.000000  219240.000000  207758.0  219240.000000  219240.000000   \n",
       "mean     565.291508       3.962949       0.0    2316.175283     -89.012599   \n",
       "std      930.235790      22.313463       0.0    2734.738937       0.929282   \n",
       "min        0.000000       0.000000       0.0       1.000000     -91.505900   \n",
       "25%      125.000000       0.000000       0.0     223.000000     -89.697700   \n",
       "50%      250.000000       0.000000       0.0    1025.000000     -88.962000   \n",
       "75%      550.000000       0.000000       0.0    3669.250000     -88.187200   \n",
       "max    15500.000000     474.000000       0.0    9999.000000     -87.504000   \n",
       "\n",
       "             POINT_Y  \n",
       "count  219240.000000  \n",
       "mean       40.303486  \n",
       "std         1.446963  \n",
       "min        36.983650  \n",
       "25%        39.004047  \n",
       "50%        40.357945  \n",
       "75%        41.671675  \n",
       "max        42.507770  "
      ]
     },
     "execution_count": 4,
     "metadata": {},
     "output_type": "execute_result"
    }
   ],
   "source": [
    "traf_data.describe()"
   ]
  },
  {
   "cell_type": "markdown",
   "id": "7a80991e",
   "metadata": {},
   "source": [
    "## Explore the dataset"
   ]
  },
  {
   "cell_type": "markdown",
   "id": "58143b95",
   "metadata": {},
   "source": [
    "This data set contains AADT for the highways in 102 counties of Illinois."
   ]
  },
  {
   "cell_type": "code",
   "execution_count": 5,
   "id": "4cd310b3",
   "metadata": {
    "scrolled": false
   },
   "outputs": [
    {
     "name": "stdout",
     "output_type": "stream",
     "text": [
      "['ADAMS' 'ALEXANDER' 'BOND' 'BOONE' 'BROWN' 'BUREAU' 'CALHOUN' 'CARROLL'\n",
      " 'CASS' 'CHAMPAIGN' 'CHRISTIAN' 'CLARK' 'CLAY' 'CLINTON' 'COLES' 'COOK'\n",
      " 'CRAWFORD' 'CUMBERLAND' 'DEKALB' 'DEWITT' 'DOUGLAS' 'DUPAGE' 'KANE'\n",
      " 'EDGAR' 'EDWARDS' 'EFFINGHAM' 'FAYETTE' 'FORD' 'FRANKLIN' 'FULTON'\n",
      " 'GALLATIN' 'GREENE' 'GRUNDY' 'HAMILTON' 'HANCOCK' 'HARDIN' 'HENDERSON'\n",
      " 'HENRY' 'IROQUOIS' 'JACKSON' 'JASPER' 'JEFFERSON' 'JERSEY' 'JO DAVIESS'\n",
      " 'JOHNSON' 'KANKAKEE' 'KENDALL' 'KNOX' 'LAKE' 'LASALLE' 'LAWRENCE' 'LEE'\n",
      " 'LIVINGSTON' 'LOGAN' 'MCDONOUGH' 'MCHENRY' 'MCLEAN' 'MACON' 'MACOUPIN'\n",
      " 'MADISON' 'MARION' 'MARSHALL' 'MASON' 'MASSAC' 'MENARD' 'MERCER' 'MONROE'\n",
      " 'MONTGOMERY' 'MORGAN' 'MOULTRIE' 'OGLE' 'PEORIA' 'PERRY' 'PIATT' 'PIKE'\n",
      " 'POPE' 'PULASKI' 'PUTNAM' 'RANDOLPH' 'RICHLAND' 'ROCK ISLAND' 'ST. CLAIR'\n",
      " 'SALINE' 'SANGAMON' 'SCHUYLER' 'SCOTT' 'SHELBY' 'STARK' 'STEPHENSON'\n",
      " 'TAZEWELL' 'UNION' 'VERMILION' 'WABASH' 'WARREN' 'WASHINGTON' 'WAYNE'\n",
      " 'WHITE' 'WHITESIDE' 'WILL' 'WILLIAMSON' 'WINNEBAGO' 'WOODFORD']\n",
      "102\n"
     ]
    }
   ],
   "source": [
    "print(traf_data[\"COUNTY_NAM\"].unique())\n",
    "\n",
    "print(traf_data[\"COUNTY_NAM\"].unique().size)"
   ]
  },
  {
   "cell_type": "markdown",
   "id": "706ac955",
   "metadata": {},
   "source": [
    "We aggregate the data according to county and calculate the average value of AADT. It can be found that the average AADT of some counties is very high."
   ]
  },
  {
   "cell_type": "code",
   "execution_count": 6,
   "id": "d81faaf4",
   "metadata": {
    "scrolled": false
   },
   "outputs": [
    {
     "data": {
      "text/plain": [
       "<AxesSubplot:xlabel='COUNTY_NAM'>"
      ]
     },
     "execution_count": 6,
     "metadata": {},
     "output_type": "execute_result"
    },
    {
     "data": {
      "image/png": "[encoded data removed]",
      "text/plain": [
       "<Figure size 1080x720 with 1 Axes>"
      ]
     },
     "metadata": {
      "needs_background": "light"
     },
     "output_type": "display_data"
    }
   ],
   "source": [
    "aggregated_data = traf_data.groupby(\"COUNTY_NAM\")[\"AADT\"].mean()\n",
    "aggregated_data.plot(figsize=(15,10))"
   ]
  },
  {
   "cell_type": "markdown",
   "id": "13c0f43c",
   "metadata": {},
   "source": [
    "The sudden increase in data in 2008 seems to have some anomalies."
   ]
  },
  {
   "cell_type": "code",
   "execution_count": 7,
   "id": "d206a437",
   "metadata": {
    "scrolled": false
   },
   "outputs": [
    {
     "data": {
      "text/plain": [
       "<AxesSubplot:title={'center':'PER YEAR SUM-AADT (2010 DATASET)'}, xlabel='AADT_YR'>"
      ]
     },
     "execution_count": 7,
     "metadata": {},
     "output_type": "execute_result"
    },
    {
     "data": {
      "image/png": "[encoded data removed]",
      "text/plain": [
       "<Figure size 432x288 with 1 Axes>"
      ]
     },
     "metadata": {
      "needs_background": "light"
     },
     "output_type": "display_data"
    }
   ],
   "source": [
    "aggregated_data = traf_data.groupby(\"AADT_YR\")[\"AADT\"].sum()\n",
    "aggregated_data.plot(title=\"PER YEAR SUM-AADT (2010 DATASET)\")"
   ]
  },
  {
   "cell_type": "markdown",
   "id": "18052d13",
   "metadata": {},
   "source": [
    "Just check the position of these coordinate points. The location information is distributed in IL, and there is no abnormality."
   ]
  },
  {
   "cell_type": "code",
   "execution_count": null,
   "id": "0f2a7db3",
   "metadata": {
    "scrolled": true
   },
   "outputs": [],
   "source": [
    "# plt.scatter(x=traf_data['POINT_X'], y=traf_data['POINT_Y'])\n",
    "# plt.show()\n",
    "\n",
    "geometry = [Point(xy) for xy in zip(traf_data['POINT_X'], traf_data['POINT_Y'])]\n",
    "gdf = GeoDataFrame(geometry=geometry)   \n",
    "\n",
    "#this is a simple map that goes with geopandas\n",
    "world = gpd.read_file(gpd.datasets.get_path('naturalearth_lowres'))\n",
    "gdf.plot(ax=world.plot(figsize=(10, 6)), marker='o', color='red', markersize=15);"
   ]
  },
  {
   "cell_type": "markdown",
   "id": "5db93624",
   "metadata": {},
   "source": [
    "## Contextual visualizations"
   ]
  },
  {
   "cell_type": "markdown",
   "id": "ea3e242c",
   "metadata": {},
   "source": [
    "This is an interactive image from the Illinois Department of Transportation (https://www.gettingaroundillinois.com/Traffic%20Counts/index.html), we can choose the type of \"traffic count\"-\"Truck Average Daily Traffic\" and \"Annual Average Daily Traffic\". We can view the real-time updated road traffic information."
   ]
  },
  {
   "cell_type": "code",
   "execution_count": null,
   "id": "196caf1f",
   "metadata": {
    "scrolled": false
   },
   "outputs": [],
   "source": [
    "from IPython.display import IFrame\n",
    "IFrame('https://www.gettingaroundillinois.com/Traffic%20Counts/index.html', width=1000, height=700)"
   ]
  },
  {
   "cell_type": "markdown",
   "id": "66507e09",
   "metadata": {},
   "source": [
    "The data.Illinois.gov website provides the data of 2006~2009 IDOT Average Annual Daily Traffic, so these data can be compared with 2010 to find out the changes of AADT in different years. Here we select the AADT dataset in 2009 (https://data.illinois.gov/dataset/691b7386-b082-4a46-bc54-b4a0625d9a4b/resource/accd597f-e90c-4167-b5a2-2099acbaa640/download/idot_average_annual_daily_traffic_2009.csv).\n",
    "\n",
    "Comparing the data in 2010, we found that the AADT summary information provided in 2009 is very different from that in 2010. We suspect that the data set may have been updated in 2010."
   ]
  },
  {
   "cell_type": "code",
   "execution_count": null,
   "id": "70dbbf29",
   "metadata": {},
   "outputs": [],
   "source": [
    "traf_data_2009 = pd.read_csv(\"https://data.illinois.gov/dataset/691b7386-b082-4a46-bc54-b4a0625d9a4b/resource/accd597f-e90c-4167-b5a2-2099acbaa640/download/idot_average_annual_daily_traffic_2009.csv\",\n",
    "                       na_values={\"AADT\":[\"Not Counted\"],\"SU_VOL\":[\"Not Counted\"], \"MU_VOL\":[\"Not Counted\"],\"HCV_AADT_S\":[\"Not Counted\"]})\n",
    "aggregated_data = traf_data_2009.groupby(\"AADTYR_STR\")[\"AADT\"].sum()\n",
    "aggregated_data.plot(title=\"PER YEAR SUM-AADT (2009 DATASET)\")"
   ]
  },
  {
   "cell_type": "markdown",
   "id": "7741b626",
   "metadata": {},
   "source": [
    "## Interactive map"
   ]
  },
  {
   "cell_type": "markdown",
   "id": "dbbd64b5",
   "metadata": {},
   "source": [
    "We marked the location information of recording points with Annual Average Daily Traffic greater than or equal to 1000 in ADAMS County in 2008 on the map. Readers can view these location points by zooming in and dragging. Clicking on any point will display the \"ROAD NAME\" and \"AADT\" data of the current point."
   ]
  },
  {
   "cell_type": "code",
   "execution_count": null,
   "id": "ec75d1b0",
   "metadata": {},
   "outputs": [],
   "source": [
    "def position(lat,log):\n",
    "    return (lat,log)\n",
    "\n",
    "tmp = traf_data.loc[(traf_data[\"AADT_YR\"]==2008)&(traf_data[\"COUNTY_NAM\"]==\"ADAMS\")&(traf_data[\"AADT\"]>=1000)][[\"AADT\",\"ROAD_NAME\",\"POINT_X\",\"POINT_Y\"]].reset_index()\n",
    "tmp[\"position\"] = tmp.apply(lambda x: position(x[\"POINT_Y\"],x[\"POINT_X\"]), axis=1)"
   ]
  },
  {
   "cell_type": "code",
   "execution_count": null,
   "id": "5d694116",
   "metadata": {},
   "outputs": [],
   "source": [
    "IL_map = folium.Map(location=[39.96872, -91.3958], zoom_start=12)\n",
    "for index,row in tmp.iterrows():\n",
    "    folium.Marker(row[\"position\"], popup=\"ROAD_NAME:{0};  AADT:{1}\".format(row[\"ROAD_NAME\"],row[\"AADT\"]),\n",
    "                icon=folium.Icon(color='red')).add_to(IL_map)"
   ]
  },
  {
   "cell_type": "code",
   "execution_count": null,
   "id": "282bc9f8",
   "metadata": {
    "scrolled": true
   },
   "outputs": [],
   "source": [
    "IL_map"
   ]
  },
  {
   "cell_type": "markdown",
   "id": "88ac9655",
   "metadata": {},
   "source": [
    "##  Interactive HeatMap"
   ]
  },
  {
   "cell_type": "markdown",
   "id": "0f813720",
   "metadata": {},
   "source": [
    "We use HeatMap to display the traffic volume of Annual Average Daily Traffic in all regions in 2008. Readers can view the traffic volume of various roads and regions by zooming in and dragging."
   ]
  },
  {
   "cell_type": "code",
   "execution_count": null,
   "id": "027074f2",
   "metadata": {},
   "outputs": [],
   "source": [
    "from folium.plugins import HeatMap\n",
    "def heat(lat,log,den):\n",
    "    return [lat,log,den]\n",
    "\n",
    "heatdata = traf_data.loc[(traf_data[\"AADT_YR\"]==2008)][[\"AADT\",\"ROAD_NAME\",\"POINT_X\",\"POINT_Y\"]].reset_index()\n",
    "heatdata[\"position\"] = heatdata.apply(lambda x: heat(x[\"POINT_Y\"],x[\"POINT_X\"],x[\"AADT\"]), axis=1)\n",
    "\n",
    "HeatData = []\n",
    "for i in heatdata[\"position\"].values:\n",
    "    HeatData.append(i)\n",
    "    \n",
    "Heat_map = folium.Map([39.96872, -91.3958],zoom_start=12)\n",
    "folium.plugins.HeatMap(HeatData).add_to(Heat_map)\n",
    "Heat_map"
   ]
  }
 ],
 "metadata": {
  "kernelspec": {
   "display_name": "Python 3",
   "language": "python",
   "name": "python3"
  },
  "language_info": {
   "codemirror_mode": {
    "name": "ipython",
    "version": 3
   },
   "file_extension": ".py",
   "mimetype": "text/x-python",
   "name": "python",
   "nbconvert_exporter": "python",
   "pygments_lexer": "ipython3",
   "version": "3.8.8"
  },
  "toc": {
   "base_numbering": 1,
   "nav_menu": {},
   "number_sections": true,
   "sideBar": true,
   "skip_h1_title": true,
   "title_cell": "Table of Contents",
   "title_sidebar": "Contents",
   "toc_cell": false,
   "toc_position": {
    "height": "calc(100% - 180px)",
    "left": "10px",
    "top": "150px",
    "width": "165px"
   },
   "toc_section_display": true,
   "toc_window_display": true
  }
 },
 "nbformat": 4,
 "nbformat_minor": 5
}
