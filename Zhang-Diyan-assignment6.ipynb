{
 "cells": [
  {
   "cell_type": "code",
   "execution_count": 1,
   "id": "7d6cb2ef",
   "metadata": {},
   "outputs": [],
   "source": [
    "import pandas as pd\n",
    "import bqplot\n",
    "import numpy as np\n",
    "import ipywidgets"
   ]
  },
  {
   "cell_type": "code",
   "execution_count": 2,
   "id": "f5ad9795",
   "metadata": {},
   "outputs": [],
   "source": [
    "data = pd.read_csv(\"https://uiuc-ischool-dataviz.github.io/is445_AOUAOG_fall2021/week02/data/building_inventory.csv\")\n",
    "data[\"County\"] = data[\"County\"].fillna(\"unknown\")"
   ]
  },
  {
   "cell_type": "code",
   "execution_count": 3,
   "id": "44dcb535",
   "metadata": {},
   "outputs": [
    {
     "data": {
      "text/plain": [
       "Agency Name                False\n",
       "Location Name              False\n",
       "Address                     True\n",
       "City                       False\n",
       "Zip code                   False\n",
       "County                     False\n",
       "Congress Dist              False\n",
       "Congressional Full Name     True\n",
       "Rep Dist                   False\n",
       "Rep Full Name               True\n",
       "Senate Dist                False\n",
       "Senator Full Name           True\n",
       "Bldg Status                False\n",
       "Year Acquired              False\n",
       "Year Constructed           False\n",
       "Square Footage             False\n",
       "Total Floors               False\n",
       "Floors Above Grade         False\n",
       "Floors Below Grade         False\n",
       "Usage Description          False\n",
       "Usage Description 2         True\n",
       "Usage Description 3         True\n",
       "dtype: bool"
      ]
     },
     "execution_count": 3,
     "metadata": {},
     "output_type": "execute_result"
    }
   ],
   "source": [
    "data.isnull().any()"
   ]
  },
  {
   "cell_type": "code",
   "execution_count": 4,
   "id": "3c82c70c",
   "metadata": {},
   "outputs": [
    {
     "name": "stdout",
     "output_type": "stream",
     "text": [
      "<class 'pandas.core.frame.DataFrame'>\n",
      "RangeIndex: 8862 entries, 0 to 8861\n",
      "Data columns (total 22 columns):\n",
      " #   Column                   Non-Null Count  Dtype \n",
      "---  ------                   --------------  ----- \n",
      " 0   Agency Name              8862 non-null   object\n",
      " 1   Location Name            8862 non-null   object\n",
      " 2   Address                  8811 non-null   object\n",
      " 3   City                     8862 non-null   object\n",
      " 4   Zip code                 8862 non-null   int64 \n",
      " 5   County                   8862 non-null   object\n",
      " 6   Congress Dist            8862 non-null   int64 \n",
      " 7   Congressional Full Name  8699 non-null   object\n",
      " 8   Rep Dist                 8862 non-null   int64 \n",
      " 9   Rep Full Name            8839 non-null   object\n",
      " 10  Senate Dist              8862 non-null   int64 \n",
      " 11  Senator Full Name        8839 non-null   object\n",
      " 12  Bldg Status              8862 non-null   object\n",
      " 13  Year Acquired            8862 non-null   int64 \n",
      " 14  Year Constructed         8862 non-null   int64 \n",
      " 15  Square Footage           8862 non-null   int64 \n",
      " 16  Total Floors             8862 non-null   int64 \n",
      " 17  Floors Above Grade       8862 non-null   int64 \n",
      " 18  Floors Below Grade       8862 non-null   int64 \n",
      " 19  Usage Description        8862 non-null   object\n",
      " 20  Usage Description 2      8832 non-null   object\n",
      " 21  Usage Description 3      8774 non-null   object\n",
      "dtypes: int64(10), object(12)\n",
      "memory usage: 1.5+ MB\n"
     ]
    }
   ],
   "source": [
    "data.info()"
   ]
  },
  {
   "cell_type": "code",
   "execution_count": 5,
   "id": "6a2fd0db",
   "metadata": {},
   "outputs": [],
   "source": [
    "data_right = pd.DataFrame(data.groupby([\"County\",\"Agency Name\"])[\"Square Footage\"].mean())\n",
    "data_right = data_right.reset_index()"
   ]
  },
  {
   "cell_type": "code",
   "execution_count": 6,
   "id": "2ae3ca8d",
   "metadata": {
    "scrolled": false
   },
   "outputs": [],
   "source": [
    "df_heatmap = pd.pivot_table(data=data,values=\"Square Footage\",index=\"Agency Name\",columns=\"County\",aggfunc=np.mean, fill_value=1)\n",
    "df_heatmap = np.log10(df_heatmap)"
   ]
  },
  {
   "cell_type": "code",
   "execution_count": 7,
   "id": "e27312d9",
   "metadata": {},
   "outputs": [],
   "source": [
    "rows_name = list(df_heatmap.index)\n",
    "columns_name = list(df_heatmap.columns)"
   ]
  },
  {
   "cell_type": "code",
   "execution_count": 8,
   "id": "8c0d5c36",
   "metadata": {},
   "outputs": [
    {
     "data": {
      "application/vnd.jupyter.widget-view+json": {
       "model_id": "1dfbcec3932049ea982026eb79faeb10",
       "version_major": 2,
       "version_minor": 0
      },
      "text/plain": [
       "Figure(axes=[Axis(label='Year', scale=LinearScale(max=2020.0, min=1753.0)), Axis(label='total square footage a…"
      ]
     },
     "metadata": {},
     "output_type": "display_data"
    }
   ],
   "source": [
    "# df_heatmap_array = np.array(df_heatmap)\n",
    "\n",
    "i,j = 6,15\n",
    "mask = (data['Agency Name'] == df_heatmap.index[i]) & \\\n",
    "            (data['County'] == df_heatmap.columns[j])\n",
    "\n",
    "x_scs = bqplot.LinearScale(min=1753,max=2020)\n",
    "y_scs = bqplot.LinearScale(max=1200000)\n",
    "\n",
    "x_axs = bqplot.Axis(label='Year', scale=x_scs)\n",
    "y_axs = bqplot.Axis(label='total square footage acquired that year', scale=y_scs, \n",
    "                   orientation = 'vertical')\n",
    "\n",
    "buildings_subset = data[mask]\n",
    "    # grab years and sqft from pandas\n",
    "grouped = buildings_subset.groupby(\"Year Acquired\")[\"Square Footage\"].sum()\n",
    "years = grouped.index\n",
    "sqft = grouped.values\n",
    "bar = bqplot.Bars(x=years,y = sqft,scales={'x':x_scs, 'y':y_scs})\n",
    "\n",
    "fig_dur = bqplot.Figure(marks=[bar], axes=[x_axs,y_axs])\n",
    "fig_dur"
   ]
  },
  {
   "cell_type": "code",
   "execution_count": 9,
   "id": "7ecf5315",
   "metadata": {
    "scrolled": false
   },
   "outputs": [
    {
     "data": {
      "application/vnd.jupyter.widget-view+json": {
       "model_id": "c9905d394bf749e9ade26349a3bc8d83",
       "version_major": 2,
       "version_minor": 0
      },
      "text/plain": [
       "Figure(axes=[ColorAxis(orientation='vertical', scale=ColorScale(scheme='viridis'), side='right'), Axis(label='…"
      ]
     },
     "metadata": {},
     "output_type": "display_data"
    }
   ],
   "source": [
    "col_sc = bqplot.ColorScale(scheme=\"viridis\")\n",
    "x_sc = bqplot.OrdinalScale() # categorical data\n",
    "y_sc = bqplot.OrdinalScale()\n",
    "\n",
    "ax_col = bqplot.ColorAxis(scale=col_sc, orientation='vertical', side='right')\n",
    "ax_x = bqplot.Axis(scale=x_sc, tick_rotate=45,label=\"Agency Name\")\n",
    "ax_y = bqplot.Axis(scale=y_sc, orientation='vertical',label=\"County\")\n",
    "\n",
    "heat_map = bqplot.GridHeatMap(color=df_heatmap,\n",
    "                              row = rows_name,\n",
    "                              column = columns_name,\n",
    "                             scales={'color':col_sc, 'row':y_sc, 'column':x_sc},\n",
    "                             interactions={'click':'select'}, \n",
    "                             anchor_style={'fill':'green'})\n",
    "\n",
    "mySelectedLabel = ipywidgets.Label()\n",
    "\n",
    "def on_selected(change):\n",
    "    i,j = change['owner'].selected[0]\n",
    "    mask = (data['Agency Name'] == df_heatmap.index[i]) & \\\n",
    "            (data['County'] == df_heatmap.columns[j])\n",
    "    \n",
    "    # grab buildings subset dataframe\n",
    "    buildings_subset = data[mask]\n",
    "    # grab years and sqft from pandas\n",
    "    grouped = buildings_subset.groupby(\"Year Acquired\")[\"Square Footage\"].sum()\n",
    "    years = grouped.index\n",
    "    sqft = grouped.values\n",
    "    bar.x = years\n",
    "    bar.y = sqft\n",
    "    mySelectedLabel.value = 'location = ' + str(i)+ \",\"+ str(j)\n",
    "\n",
    "heat_map.observe(on_selected, 'selected')\n",
    "\n",
    "fig = bqplot.Figure(marks=[heat_map], axes=[ax_col, ax_x, ax_y],title=\"Grid Heat Map\")\n",
    "fig"
   ]
  },
  {
   "cell_type": "code",
   "execution_count": 10,
   "id": "37bb800f",
   "metadata": {
    "scrolled": true
   },
   "outputs": [
    {
     "data": {
      "application/vnd.jupyter.widget-view+json": {
       "model_id": "fd043cad93414dfb94275b691febac0c",
       "version_major": 2,
       "version_minor": 0
      },
      "text/plain": [
       "VBox(children=(Label(value=''), HBox(children=(Figure(axes=[ColorAxis(orientation='vertical', scale=ColorScale…"
      ]
     },
     "metadata": {},
     "output_type": "display_data"
    }
   ],
   "source": [
    "fig.layout.min_width='500px'\n",
    "fig_dur.layout.min_width = '500px'\n",
    "figures = ipywidgets.HBox([fig, fig_dur])\n",
    "\n",
    "myDashboard = ipywidgets.VBox([mySelectedLabel, figures])\n",
    "myDashboard"
   ]
  },
  {
   "cell_type": "markdown",
   "id": "1f8f9319",
   "metadata": {},
   "source": [
    "Things to think about:\n",
    "\n",
    "**Can you keep the x and y ranges static on the bar plot?**\n",
    "\n",
    "Defintely, we could set the values of max and min of bqplot.LinearScale() to keep the x and y ranges static on the bar plot.\n",
    "\n",
    "**Can you change the style?**\n",
    "\n",
    "Yes, bqplot.Bars contains plenty attributes which control the stype of the barplot so that we could change the scheme by changing attributes like \"colors\", \"stroke\" ... or setting bqplot.ColorScale."
   ]
  },
  {
   "cell_type": "markdown",
   "id": "d272a358",
   "metadata": {},
   "source": [
    "In your write-up please address:\n",
    "\n",
    "**Any data transformations or rescalings you did for your plot**\n",
    "\n",
    "When I build the pivot_table to prepare the heatmap, I transform the mean of total square footage into log10 based values.\n",
    "\n",
    "\n",
    "**How you dealt with NaN's (empty entries) in your dataset**\n",
    "\n",
    "First, check which columns contain NAN by typing ***data.isnull().any()***. \"Agency Name\", \"Year Acquired\" and \"Square Footage\" does not contain any NAN. Set NAN in \"County\" to be \"unknown\" and set the fill_value of pivot_table to be 0 to processing the NAN.\n",
    "\n",
    "**Any aesthetic choices you made (colors, layout, plot size, label size) and why, and what you'd like to experiment with if you had more time.**\n",
    "\n",
    "First, I set the scheme of Grid Heat Map into \"viridis\" format. I have try plenty of schemes including \"RdPu\", but they all hard to read. \n",
    "\n",
    "Next, set the tick_rotate of x_axis for GridHeatMap into 45 degree in order to split each x element. But still not perfect.\n",
    "\n",
    "Finally, adjust the width of each plot in the dashboard(fig.layout.min_width='500px', fig_dur.layout.min_width = '500px') to make the plots more readable.\n",
    "\n",
    "\n"
   ]
  }
 ],
 "metadata": {
  "kernelspec": {
   "display_name": "Python 3",
   "language": "python",
   "name": "python3"
  },
  "language_info": {
   "codemirror_mode": {
    "name": "ipython",
    "version": 3
   },
   "file_extension": ".py",
   "mimetype": "text/x-python",
   "name": "python",
   "nbconvert_exporter": "python",
   "pygments_lexer": "ipython3",
   "version": "3.8.8"
  }
 },
 "nbformat": 4,
 "nbformat_minor": 5
}
